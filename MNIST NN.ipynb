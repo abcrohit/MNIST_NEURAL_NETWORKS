{
 "cells": [
  {
   "cell_type": "code",
   "execution_count": 1,
   "id": "piano-weekend",
   "metadata": {},
   "outputs": [],
   "source": [
    "import numpy as np\n",
    "import pandas as pd\n",
    "import math"
   ]
  },
  {
   "cell_type": "code",
   "execution_count": 2,
   "id": "august-vampire",
   "metadata": {},
   "outputs": [],
   "source": [
    "from sklearn.datasets import fetch_openml\n",
    "mnist = fetch_openml('mnist_784', version=1, cache=True)"
   ]
  },
  {
   "cell_type": "raw",
   "id": "leading-symbol",
   "metadata": {},
   "source": [
    "from check point 1 to check point 2 , i have just converted the downloaded mnist data into my preferred form "
   ]
  },
  {
   "cell_type": "markdown",
   "id": "spectacular-tuner",
   "metadata": {},
   "source": [
    "checkpoint1"
   ]
  },
  {
   "cell_type": "code",
   "execution_count": 3,
   "id": "executed-lecture",
   "metadata": {},
   "outputs": [
    {
     "name": "stderr",
     "output_type": "stream",
     "text": [
      "c:\\users\\rohit\\appdata\\local\\programs\\python\\python39\\lib\\site-packages\\pandas\\core\\frame.py:4441: SettingWithCopyWarning: \n",
      "A value is trying to be set on a copy of a slice from a DataFrame\n",
      "\n",
      "See the caveats in the documentation: https://pandas.pydata.org/pandas-docs/stable/user_guide/indexing.html#returning-a-view-versus-a-copy\n",
      "  return super().rename(\n"
     ]
    }
   ],
   "source": [
    "dict={}\n",
    "i=1\n",
    "for col in mnist[\"data\"].columns:\n",
    "    dict[col]=f\"X{i}\"\n",
    "    i+=1\n",
    "Data=mnist[\"data\"]\n",
    "Data.rename(columns=dict,\n",
    "          inplace=True)"
   ]
  },
  {
   "cell_type": "code",
   "execution_count": 4,
   "id": "intense-mechanism",
   "metadata": {},
   "outputs": [
    {
     "name": "stderr",
     "output_type": "stream",
     "text": [
      "c:\\users\\rohit\\appdata\\local\\programs\\python\\python39\\lib\\site-packages\\pandas\\core\\indexing.py:1720: SettingWithCopyWarning: \n",
      "A value is trying to be set on a copy of a slice from a DataFrame.\n",
      "Try using .loc[row_indexer,col_indexer] = value instead\n",
      "\n",
      "See the caveats in the documentation: https://pandas.pydata.org/pandas-docs/stable/user_guide/indexing.html#returning-a-view-versus-a-copy\n",
      "  self._setitem_single_column(loc, value, pi)\n"
     ]
    }
   ],
   "source": [
    "for i in range(0,10):\n",
    "    Data.insert(len(Data.columns),f\"Y{i}\",0,True)\n",
    "Target=mnist[\"target\"]\n",
    "for i in range(0,7000):\n",
    "    t=int(Target[i])\n",
    "    Data.iloc[i,-10+t]=1"
   ]
  },
  {
   "cell_type": "code",
   "execution_count": 5,
   "id": "dramatic-testing",
   "metadata": {},
   "outputs": [
    {
     "data": {
      "text/html": [
       "<div>\n",
       "<style scoped>\n",
       "    .dataframe tbody tr th:only-of-type {\n",
       "        vertical-align: middle;\n",
       "    }\n",
       "\n",
       "    .dataframe tbody tr th {\n",
       "        vertical-align: top;\n",
       "    }\n",
       "\n",
       "    .dataframe thead th {\n",
       "        text-align: right;\n",
       "    }\n",
       "</style>\n",
       "<table border=\"1\" class=\"dataframe\">\n",
       "  <thead>\n",
       "    <tr style=\"text-align: right;\">\n",
       "      <th></th>\n",
       "      <th>X1</th>\n",
       "      <th>X2</th>\n",
       "      <th>X3</th>\n",
       "      <th>X4</th>\n",
       "      <th>X5</th>\n",
       "      <th>X6</th>\n",
       "      <th>X7</th>\n",
       "      <th>X8</th>\n",
       "      <th>X9</th>\n",
       "      <th>X10</th>\n",
       "      <th>...</th>\n",
       "      <th>Y0</th>\n",
       "      <th>Y1</th>\n",
       "      <th>Y2</th>\n",
       "      <th>Y3</th>\n",
       "      <th>Y4</th>\n",
       "      <th>Y5</th>\n",
       "      <th>Y6</th>\n",
       "      <th>Y7</th>\n",
       "      <th>Y8</th>\n",
       "      <th>Y9</th>\n",
       "    </tr>\n",
       "  </thead>\n",
       "  <tbody>\n",
       "    <tr>\n",
       "      <th>0</th>\n",
       "      <td>0.0</td>\n",
       "      <td>0.0</td>\n",
       "      <td>0.0</td>\n",
       "      <td>0.0</td>\n",
       "      <td>0.0</td>\n",
       "      <td>0.0</td>\n",
       "      <td>0.0</td>\n",
       "      <td>0.0</td>\n",
       "      <td>0.0</td>\n",
       "      <td>0.0</td>\n",
       "      <td>...</td>\n",
       "      <td>0</td>\n",
       "      <td>0</td>\n",
       "      <td>0</td>\n",
       "      <td>0</td>\n",
       "      <td>0</td>\n",
       "      <td>1</td>\n",
       "      <td>0</td>\n",
       "      <td>0</td>\n",
       "      <td>0</td>\n",
       "      <td>0</td>\n",
       "    </tr>\n",
       "    <tr>\n",
       "      <th>1</th>\n",
       "      <td>0.0</td>\n",
       "      <td>0.0</td>\n",
       "      <td>0.0</td>\n",
       "      <td>0.0</td>\n",
       "      <td>0.0</td>\n",
       "      <td>0.0</td>\n",
       "      <td>0.0</td>\n",
       "      <td>0.0</td>\n",
       "      <td>0.0</td>\n",
       "      <td>0.0</td>\n",
       "      <td>...</td>\n",
       "      <td>1</td>\n",
       "      <td>0</td>\n",
       "      <td>0</td>\n",
       "      <td>0</td>\n",
       "      <td>0</td>\n",
       "      <td>0</td>\n",
       "      <td>0</td>\n",
       "      <td>0</td>\n",
       "      <td>0</td>\n",
       "      <td>0</td>\n",
       "    </tr>\n",
       "    <tr>\n",
       "      <th>2</th>\n",
       "      <td>0.0</td>\n",
       "      <td>0.0</td>\n",
       "      <td>0.0</td>\n",
       "      <td>0.0</td>\n",
       "      <td>0.0</td>\n",
       "      <td>0.0</td>\n",
       "      <td>0.0</td>\n",
       "      <td>0.0</td>\n",
       "      <td>0.0</td>\n",
       "      <td>0.0</td>\n",
       "      <td>...</td>\n",
       "      <td>0</td>\n",
       "      <td>0</td>\n",
       "      <td>0</td>\n",
       "      <td>0</td>\n",
       "      <td>1</td>\n",
       "      <td>0</td>\n",
       "      <td>0</td>\n",
       "      <td>0</td>\n",
       "      <td>0</td>\n",
       "      <td>0</td>\n",
       "    </tr>\n",
       "    <tr>\n",
       "      <th>3</th>\n",
       "      <td>0.0</td>\n",
       "      <td>0.0</td>\n",
       "      <td>0.0</td>\n",
       "      <td>0.0</td>\n",
       "      <td>0.0</td>\n",
       "      <td>0.0</td>\n",
       "      <td>0.0</td>\n",
       "      <td>0.0</td>\n",
       "      <td>0.0</td>\n",
       "      <td>0.0</td>\n",
       "      <td>...</td>\n",
       "      <td>0</td>\n",
       "      <td>1</td>\n",
       "      <td>0</td>\n",
       "      <td>0</td>\n",
       "      <td>0</td>\n",
       "      <td>0</td>\n",
       "      <td>0</td>\n",
       "      <td>0</td>\n",
       "      <td>0</td>\n",
       "      <td>0</td>\n",
       "    </tr>\n",
       "    <tr>\n",
       "      <th>4</th>\n",
       "      <td>0.0</td>\n",
       "      <td>0.0</td>\n",
       "      <td>0.0</td>\n",
       "      <td>0.0</td>\n",
       "      <td>0.0</td>\n",
       "      <td>0.0</td>\n",
       "      <td>0.0</td>\n",
       "      <td>0.0</td>\n",
       "      <td>0.0</td>\n",
       "      <td>0.0</td>\n",
       "      <td>...</td>\n",
       "      <td>0</td>\n",
       "      <td>0</td>\n",
       "      <td>0</td>\n",
       "      <td>0</td>\n",
       "      <td>0</td>\n",
       "      <td>0</td>\n",
       "      <td>0</td>\n",
       "      <td>0</td>\n",
       "      <td>0</td>\n",
       "      <td>1</td>\n",
       "    </tr>\n",
       "    <tr>\n",
       "      <th>...</th>\n",
       "      <td>...</td>\n",
       "      <td>...</td>\n",
       "      <td>...</td>\n",
       "      <td>...</td>\n",
       "      <td>...</td>\n",
       "      <td>...</td>\n",
       "      <td>...</td>\n",
       "      <td>...</td>\n",
       "      <td>...</td>\n",
       "      <td>...</td>\n",
       "      <td>...</td>\n",
       "      <td>...</td>\n",
       "      <td>...</td>\n",
       "      <td>...</td>\n",
       "      <td>...</td>\n",
       "      <td>...</td>\n",
       "      <td>...</td>\n",
       "      <td>...</td>\n",
       "      <td>...</td>\n",
       "      <td>...</td>\n",
       "      <td>...</td>\n",
       "    </tr>\n",
       "    <tr>\n",
       "      <th>69995</th>\n",
       "      <td>0.0</td>\n",
       "      <td>0.0</td>\n",
       "      <td>0.0</td>\n",
       "      <td>0.0</td>\n",
       "      <td>0.0</td>\n",
       "      <td>0.0</td>\n",
       "      <td>0.0</td>\n",
       "      <td>0.0</td>\n",
       "      <td>0.0</td>\n",
       "      <td>0.0</td>\n",
       "      <td>...</td>\n",
       "      <td>0</td>\n",
       "      <td>0</td>\n",
       "      <td>0</td>\n",
       "      <td>0</td>\n",
       "      <td>0</td>\n",
       "      <td>0</td>\n",
       "      <td>0</td>\n",
       "      <td>0</td>\n",
       "      <td>0</td>\n",
       "      <td>0</td>\n",
       "    </tr>\n",
       "    <tr>\n",
       "      <th>69996</th>\n",
       "      <td>0.0</td>\n",
       "      <td>0.0</td>\n",
       "      <td>0.0</td>\n",
       "      <td>0.0</td>\n",
       "      <td>0.0</td>\n",
       "      <td>0.0</td>\n",
       "      <td>0.0</td>\n",
       "      <td>0.0</td>\n",
       "      <td>0.0</td>\n",
       "      <td>0.0</td>\n",
       "      <td>...</td>\n",
       "      <td>0</td>\n",
       "      <td>0</td>\n",
       "      <td>0</td>\n",
       "      <td>0</td>\n",
       "      <td>0</td>\n",
       "      <td>0</td>\n",
       "      <td>0</td>\n",
       "      <td>0</td>\n",
       "      <td>0</td>\n",
       "      <td>0</td>\n",
       "    </tr>\n",
       "    <tr>\n",
       "      <th>69997</th>\n",
       "      <td>0.0</td>\n",
       "      <td>0.0</td>\n",
       "      <td>0.0</td>\n",
       "      <td>0.0</td>\n",
       "      <td>0.0</td>\n",
       "      <td>0.0</td>\n",
       "      <td>0.0</td>\n",
       "      <td>0.0</td>\n",
       "      <td>0.0</td>\n",
       "      <td>0.0</td>\n",
       "      <td>...</td>\n",
       "      <td>0</td>\n",
       "      <td>0</td>\n",
       "      <td>0</td>\n",
       "      <td>0</td>\n",
       "      <td>0</td>\n",
       "      <td>0</td>\n",
       "      <td>0</td>\n",
       "      <td>0</td>\n",
       "      <td>0</td>\n",
       "      <td>0</td>\n",
       "    </tr>\n",
       "    <tr>\n",
       "      <th>69998</th>\n",
       "      <td>0.0</td>\n",
       "      <td>0.0</td>\n",
       "      <td>0.0</td>\n",
       "      <td>0.0</td>\n",
       "      <td>0.0</td>\n",
       "      <td>0.0</td>\n",
       "      <td>0.0</td>\n",
       "      <td>0.0</td>\n",
       "      <td>0.0</td>\n",
       "      <td>0.0</td>\n",
       "      <td>...</td>\n",
       "      <td>0</td>\n",
       "      <td>0</td>\n",
       "      <td>0</td>\n",
       "      <td>0</td>\n",
       "      <td>0</td>\n",
       "      <td>0</td>\n",
       "      <td>0</td>\n",
       "      <td>0</td>\n",
       "      <td>0</td>\n",
       "      <td>0</td>\n",
       "    </tr>\n",
       "    <tr>\n",
       "      <th>69999</th>\n",
       "      <td>0.0</td>\n",
       "      <td>0.0</td>\n",
       "      <td>0.0</td>\n",
       "      <td>0.0</td>\n",
       "      <td>0.0</td>\n",
       "      <td>0.0</td>\n",
       "      <td>0.0</td>\n",
       "      <td>0.0</td>\n",
       "      <td>0.0</td>\n",
       "      <td>0.0</td>\n",
       "      <td>...</td>\n",
       "      <td>0</td>\n",
       "      <td>0</td>\n",
       "      <td>0</td>\n",
       "      <td>0</td>\n",
       "      <td>0</td>\n",
       "      <td>0</td>\n",
       "      <td>0</td>\n",
       "      <td>0</td>\n",
       "      <td>0</td>\n",
       "      <td>0</td>\n",
       "    </tr>\n",
       "  </tbody>\n",
       "</table>\n",
       "<p>70000 rows × 794 columns</p>\n",
       "</div>"
      ],
      "text/plain": [
       "        X1   X2   X3   X4   X5   X6   X7   X8   X9  X10  ...  Y0  Y1  Y2  Y3  \\\n",
       "0      0.0  0.0  0.0  0.0  0.0  0.0  0.0  0.0  0.0  0.0  ...   0   0   0   0   \n",
       "1      0.0  0.0  0.0  0.0  0.0  0.0  0.0  0.0  0.0  0.0  ...   1   0   0   0   \n",
       "2      0.0  0.0  0.0  0.0  0.0  0.0  0.0  0.0  0.0  0.0  ...   0   0   0   0   \n",
       "3      0.0  0.0  0.0  0.0  0.0  0.0  0.0  0.0  0.0  0.0  ...   0   1   0   0   \n",
       "4      0.0  0.0  0.0  0.0  0.0  0.0  0.0  0.0  0.0  0.0  ...   0   0   0   0   \n",
       "...    ...  ...  ...  ...  ...  ...  ...  ...  ...  ...  ...  ..  ..  ..  ..   \n",
       "69995  0.0  0.0  0.0  0.0  0.0  0.0  0.0  0.0  0.0  0.0  ...   0   0   0   0   \n",
       "69996  0.0  0.0  0.0  0.0  0.0  0.0  0.0  0.0  0.0  0.0  ...   0   0   0   0   \n",
       "69997  0.0  0.0  0.0  0.0  0.0  0.0  0.0  0.0  0.0  0.0  ...   0   0   0   0   \n",
       "69998  0.0  0.0  0.0  0.0  0.0  0.0  0.0  0.0  0.0  0.0  ...   0   0   0   0   \n",
       "69999  0.0  0.0  0.0  0.0  0.0  0.0  0.0  0.0  0.0  0.0  ...   0   0   0   0   \n",
       "\n",
       "       Y4  Y5  Y6  Y7  Y8  Y9  \n",
       "0       0   1   0   0   0   0  \n",
       "1       0   0   0   0   0   0  \n",
       "2       1   0   0   0   0   0  \n",
       "3       0   0   0   0   0   0  \n",
       "4       0   0   0   0   0   1  \n",
       "...    ..  ..  ..  ..  ..  ..  \n",
       "69995   0   0   0   0   0   0  \n",
       "69996   0   0   0   0   0   0  \n",
       "69997   0   0   0   0   0   0  \n",
       "69998   0   0   0   0   0   0  \n",
       "69999   0   0   0   0   0   0  \n",
       "\n",
       "[70000 rows x 794 columns]"
      ]
     },
     "execution_count": 5,
     "metadata": {},
     "output_type": "execute_result"
    }
   ],
   "source": [
    "Data"
   ]
  },
  {
   "cell_type": "code",
   "execution_count": 6,
   "id": "cheap-canyon",
   "metadata": {},
   "outputs": [],
   "source": [
    "Training_Set=Data.iloc[0:5000,:]\n",
    "Testing_Set=Data.iloc[5000:7000,:]"
   ]
  },
  {
   "cell_type": "markdown",
   "id": "precious-incident",
   "metadata": {},
   "source": [
    "Check Point 2\n",
    "Implementing forward propagations to a row of Data,\n",
    "inputs:X1-X784 list , W(1),w(2)\n",
    "outputs:activations of hidden layer and output layer"
   ]
  },
  {
   "cell_type": "markdown",
   "id": "together-sister",
   "metadata": {},
   "source": [
    "Creatinng W1 AND W2 of dimensions n X 785 and 10 x n+1\n"
   ]
  },
  {
   "cell_type": "code",
   "execution_count": 7,
   "id": "fifth-arrival",
   "metadata": {},
   "outputs": [],
   "source": [
    "n=78"
   ]
  },
  {
   "cell_type": "code",
   "execution_count": 31,
   "id": "handed-proxy",
   "metadata": {},
   "outputs": [],
   "source": [
    "e1=math.sqrt(6)/(math.sqrt(784)+math.sqrt(n))\n",
    "W1=2*e1*(np.random.rand(n,785)-1/2) \n",
    "#uniform distribution from(-e1,e1)"
   ]
  },
  {
   "cell_type": "code",
   "execution_count": 34,
   "id": "incorporated-being",
   "metadata": {},
   "outputs": [],
   "source": [
    "e2=math.sqrt(6)/(math.sqrt(n)+math.sqrt(10))\n",
    "W2=2*e2*(np.random.rand(10,n+1)-1/2)"
   ]
  },
  {
   "cell_type": "code",
   "execution_count": 10,
   "id": "intended-publicity",
   "metadata": {},
   "outputs": [],
   "source": [
    "def g(x):\n",
    "    if(x>500):\n",
    "        return 1\n",
    "    if(x<-500):\n",
    "        return 0\n",
    "    return 1/(1+math.exp(-x))"
   ]
  },
  {
   "cell_type": "markdown",
   "id": "vital-skating",
   "metadata": {},
   "source": [
    "Sigmoid Function"
   ]
  },
  {
   "cell_type": "markdown",
   "id": "approved-divorce",
   "metadata": {},
   "source": [
    "Check Point 3"
   ]
  },
  {
   "cell_type": "raw",
   "id": "adverse-deputy",
   "metadata": {},
   "source": [
    "creating forward propogation\n",
    "inputs:W1,W2,1 row of training set\n",
    "outputs:activations of each layer , i.e a1,a2\n"
   ]
  },
  {
   "cell_type": "code",
   "execution_count": 11,
   "id": "distant-assistant",
   "metadata": {},
   "outputs": [],
   "source": [
    "def forward_propagation(W1,W2,data_point):\n",
    "    x=np.array(data_point[0:784])\n",
    "    y=np.array(data_point[784:])\n",
    "    z1=np.dot(W1[:,1:],x)+W1[:,0]\n",
    "    a1= np.array([g(xi) for xi in z1])\n",
    "    z2=np.dot(W2[:,1:],a1)+W2[:,0]\n",
    "    a2=np.array([g(xi) for xi in z2])\n",
    "    return x,a1,a2,y\n",
    "    "
   ]
  },
  {
   "cell_type": "markdown",
   "id": "relative-thanksgiving",
   "metadata": {},
   "source": [
    "forward_propagation(W1,W2,Data.iloc[0,:])"
   ]
  },
  {
   "cell_type": "markdown",
   "id": "particular-constant",
   "metadata": {},
   "source": [
    "checkpoint 4\n",
    "creating cross entropy cost function\n"
   ]
  },
  {
   "cell_type": "code",
   "execution_count": 12,
   "id": "expired-ticket",
   "metadata": {},
   "outputs": [],
   "source": [
    "def Point_Cost(a2,y):\n",
    "    Cost=0\n",
    "    for i in range(0,10):\n",
    "        Cost=Cost+y[i]*math.log(a2[i])+(1-y[i])*math.log(1-a2[i])\n",
    "    return Cost\n",
    "    "
   ]
  },
  {
   "cell_type": "markdown",
   "id": "august-potter",
   "metadata": {},
   "source": [
    "checkpoint 5\n",
    "Applying backpropagation to get delta matrix and individual deltas\n"
   ]
  },
  {
   "cell_type": "code",
   "execution_count": 51,
   "id": "bright-victory",
   "metadata": {},
   "outputs": [],
   "source": [
    "def backward_propagation(x,a1,a2,y,W1,W2):\n",
    "    del_2=a2-y\n",
    "    del_g=np.array([a*(1-a)for a in a1])\n",
    "    partial_del_1=np.dot(del_2,W2[:,1:])\n",
    "    del_1=np.array([partial_del_1[i]*a1[i]*(1-a1[i]) for i in range(0,a1.size)])\n",
    "    return del_1,del_2"
   ]
  },
  {
   "cell_type": "code",
   "execution_count": 111,
   "id": "correct-factor",
   "metadata": {},
   "outputs": [],
   "source": [
    "def point_gradient(X,W1,W2,a1,del_1,del_2):\n",
    "    W1=0*W1\n",
    "    W2=0*W2\n",
    "    for i in range(0,W1.shape[0]):\n",
    "        W1[i,0]=del_1[i]\n",
    "        for j in range(1,W1.shape[1]):\n",
    "            W1[i,j]=del_1[i]*X[j-1]\n",
    "    for i in range(0,W2.shape[0]):\n",
    "        W2[i,0]=del_2[i]\n",
    "        for j in range(1,W2.shape[1]):\n",
    "            W2[i,j]=del_2[i]*a1[j-1]\n",
    "    return W1,W2"
   ]
  },
  {
   "cell_type": "code",
   "execution_count": 112,
   "id": "aquatic-strip",
   "metadata": {},
   "outputs": [],
   "source": [
    "x,a1,a2,y=forward_propagation(W1,W2,Data.iloc[0,:])"
   ]
  },
  {
   "cell_type": "code",
   "execution_count": 113,
   "id": "constant-complaint",
   "metadata": {},
   "outputs": [],
   "source": [
    "del_1,del_2=backward_propagation(x,a1,a2,y,W1,W2)"
   ]
  },
  {
   "cell_type": "code",
   "execution_count": 114,
   "id": "secure-banana",
   "metadata": {},
   "outputs": [],
   "source": [
    "del_W1,del_W2=point_gradient(Data.iloc[0,0:784],W1,W2,a1,del_1,del_2)"
   ]
  },
  {
   "cell_type": "markdown",
   "id": "expected-think",
   "metadata": {},
   "source": [
    "checkpoint 7 creating gradient descent\n"
   ]
  },
  {
   "cell_type": "code",
   "execution_count": null,
   "id": "varying-creek",
   "metadata": {},
   "outputs": [],
   "source": []
  },
  {
   "cell_type": "markdown",
   "id": "motivated-identification",
   "metadata": {},
   "source": [
    "checkpoint8 imlementing the above using gradient descent \n"
   ]
  },
  {
   "cell_type": "code",
   "execution_count": null,
   "id": "underlying-butler",
   "metadata": {},
   "outputs": [],
   "source": []
  },
  {
   "cell_type": "markdown",
   "id": "specialized-latino",
   "metadata": {},
   "source": [
    "creating prediction function\n"
   ]
  },
  {
   "cell_type": "code",
   "execution_count": 59,
   "id": "expressed-toolbox",
   "metadata": {},
   "outputs": [],
   "source": [
    "def predict(X,W1,W2):\n",
    "    z1=np.dot(W1[:,1:],x)+W1[:,0]\n",
    "    a1= np.array([g(xi) for xi in z1])\n",
    "    z2=np.dot(W2[:,1:],a1)+W2[:,0]\n",
    "    a2=np.array([g(xi) for xi in z2])\n",
    "    result=np.where(a2==np.amax(a2))[0]\n",
    "    return result"
   ]
  },
  {
   "cell_type": "markdown",
   "id": "indirect-guatemala",
   "metadata": {},
   "source": [
    "checkpoint 9 implementing batch gradient descent"
   ]
  },
  {
   "cell_type": "code",
   "execution_count": null,
   "id": "grateful-opportunity",
   "metadata": {},
   "outputs": [],
   "source": []
  }
 ],
 "metadata": {
  "kernelspec": {
   "display_name": "Python 3",
   "language": "python",
   "name": "python3"
  },
  "language_info": {
   "codemirror_mode": {
    "name": "ipython",
    "version": 3
   },
   "file_extension": ".py",
   "mimetype": "text/x-python",
   "name": "python",
   "nbconvert_exporter": "python",
   "pygments_lexer": "ipython3",
   "version": "3.9.1"
  }
 },
 "nbformat": 4,
 "nbformat_minor": 5
}
